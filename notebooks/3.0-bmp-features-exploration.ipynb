{
 "cells": [
  {
   "cell_type": "code",
   "execution_count": 1,
   "metadata": {},
   "outputs": [
    {
     "name": "stdout",
     "output_type": "stream",
     "text": [
      "/home/bruno/Desktop/coarse-discourse-validation\n"
     ]
    }
   ],
   "source": [
    "import os\n",
    "PROJ_ROOT = os.path.abspath(os.path.join(os.pardir))\n",
    "print(PROJ_ROOT)"
   ]
  },
  {
   "cell_type": "code",
   "execution_count": 2,
   "metadata": {},
   "outputs": [
    {
     "data": {
      "text/html": [
       "<div>\n",
       "<style scoped>\n",
       "    .dataframe tbody tr th:only-of-type {\n",
       "        vertical-align: middle;\n",
       "    }\n",
       "\n",
       "    .dataframe tbody tr th {\n",
       "        vertical-align: top;\n",
       "    }\n",
       "\n",
       "    .dataframe thead th {\n",
       "        text-align: right;\n",
       "    }\n",
       "</style>\n",
       "<table border=\"1\" class=\"dataframe\">\n",
       "  <thead>\n",
       "    <tr style=\"text-align: right;\">\n",
       "      <th></th>\n",
       "      <th>annotations</th>\n",
       "      <th>author</th>\n",
       "      <th>body</th>\n",
       "      <th>id</th>\n",
       "      <th>in_reply_to</th>\n",
       "      <th>is_self_post</th>\n",
       "      <th>majority_link</th>\n",
       "      <th>majority_type</th>\n",
       "      <th>post_depth</th>\n",
       "      <th>subreddit</th>\n",
       "      <th>thread_title</th>\n",
       "      <th>url</th>\n",
       "    </tr>\n",
       "  </thead>\n",
       "  <tbody>\n",
       "    <tr>\n",
       "      <th>0</th>\n",
       "      <td>[{'link_to_post': 'none', 'main_type': 'announ...</td>\n",
       "      <td>Keatonus</td>\n",
       "      <td>Alright guys, little background about myself. ...</td>\n",
       "      <td>t3_omv7p</td>\n",
       "      <td>NaN</td>\n",
       "      <td>True</td>\n",
       "      <td>none</td>\n",
       "      <td>announcement</td>\n",
       "      <td>0.0</td>\n",
       "      <td>100sets</td>\n",
       "      <td>Male, 23 years old. Going for 100 sets!</td>\n",
       "      <td>https://www.reddit.com/r/100sets/comments/omv7...</td>\n",
       "    </tr>\n",
       "    <tr>\n",
       "      <th>1</th>\n",
       "      <td>[{'link_to_post': 't3_omv7p', 'main_type': 'el...</td>\n",
       "      <td>Keatonus</td>\n",
       "      <td>**January 16th 3 Sets:** \\nWent out shopping w...</td>\n",
       "      <td>t1_c3igqif</td>\n",
       "      <td>t3_omv7p</td>\n",
       "      <td>True</td>\n",
       "      <td>t3_omv7p</td>\n",
       "      <td>elaboration</td>\n",
       "      <td>1.0</td>\n",
       "      <td>100sets</td>\n",
       "      <td>Male, 23 years old. Going for 100 sets!</td>\n",
       "      <td>NaN</td>\n",
       "    </tr>\n",
       "    <tr>\n",
       "      <th>3</th>\n",
       "      <td>[{'link_to_post': 't3_omv7p', 'main_type': 'ap...</td>\n",
       "      <td>answerorreply</td>\n",
       "      <td>dude, these sets are awesome. You're doing gre...</td>\n",
       "      <td>t1_c3ij8z0</td>\n",
       "      <td>t3_omv7p</td>\n",
       "      <td>True</td>\n",
       "      <td>t3_omv7p</td>\n",
       "      <td>appreciation</td>\n",
       "      <td>1.0</td>\n",
       "      <td>100sets</td>\n",
       "      <td>Male, 23 years old. Going for 100 sets!</td>\n",
       "      <td>NaN</td>\n",
       "    </tr>\n",
       "    <tr>\n",
       "      <th>4</th>\n",
       "      <td>[{'link_to_post': 't1_c3ij8z0', 'main_type': '...</td>\n",
       "      <td>Keatonus</td>\n",
       "      <td>Thanks man! Yeah I'm trying to just keep the \"...</td>\n",
       "      <td>t1_c3inx9t</td>\n",
       "      <td>t1_c3ij8z0</td>\n",
       "      <td>True</td>\n",
       "      <td>t1_c3ij8z0</td>\n",
       "      <td>appreciation</td>\n",
       "      <td>2.0</td>\n",
       "      <td>100sets</td>\n",
       "      <td>Male, 23 years old. Going for 100 sets!</td>\n",
       "      <td>NaN</td>\n",
       "    </tr>\n",
       "    <tr>\n",
       "      <th>5</th>\n",
       "      <td>[{'link_to_post': 't3_omv7p', 'main_type': 'el...</td>\n",
       "      <td>Keatonus</td>\n",
       "      <td>Ok. Update! Sorry I haven't been doing this da...</td>\n",
       "      <td>t1_c3k2lc1</td>\n",
       "      <td>t3_omv7p</td>\n",
       "      <td>True</td>\n",
       "      <td>t3_omv7p</td>\n",
       "      <td>elaboration</td>\n",
       "      <td>1.0</td>\n",
       "      <td>100sets</td>\n",
       "      <td>Male, 23 years old. Going for 100 sets!</td>\n",
       "      <td>NaN</td>\n",
       "    </tr>\n",
       "  </tbody>\n",
       "</table>\n",
       "</div>"
      ],
      "text/plain": [
       "                                         annotations         author  \\\n",
       "0  [{'link_to_post': 'none', 'main_type': 'announ...       Keatonus   \n",
       "1  [{'link_to_post': 't3_omv7p', 'main_type': 'el...       Keatonus   \n",
       "3  [{'link_to_post': 't3_omv7p', 'main_type': 'ap...  answerorreply   \n",
       "4  [{'link_to_post': 't1_c3ij8z0', 'main_type': '...       Keatonus   \n",
       "5  [{'link_to_post': 't3_omv7p', 'main_type': 'el...       Keatonus   \n",
       "\n",
       "                                                body          id in_reply_to  \\\n",
       "0  Alright guys, little background about myself. ...    t3_omv7p         NaN   \n",
       "1  **January 16th 3 Sets:** \\nWent out shopping w...  t1_c3igqif    t3_omv7p   \n",
       "3  dude, these sets are awesome. You're doing gre...  t1_c3ij8z0    t3_omv7p   \n",
       "4  Thanks man! Yeah I'm trying to just keep the \"...  t1_c3inx9t  t1_c3ij8z0   \n",
       "5  Ok. Update! Sorry I haven't been doing this da...  t1_c3k2lc1    t3_omv7p   \n",
       "\n",
       "   is_self_post majority_link majority_type  post_depth subreddit  \\\n",
       "0          True          none  announcement         0.0   100sets   \n",
       "1          True      t3_omv7p   elaboration         1.0   100sets   \n",
       "3          True      t3_omv7p  appreciation         1.0   100sets   \n",
       "4          True    t1_c3ij8z0  appreciation         2.0   100sets   \n",
       "5          True      t3_omv7p   elaboration         1.0   100sets   \n",
       "\n",
       "                              thread_title  \\\n",
       "0  Male, 23 years old. Going for 100 sets!   \n",
       "1  Male, 23 years old. Going for 100 sets!   \n",
       "3  Male, 23 years old. Going for 100 sets!   \n",
       "4  Male, 23 years old. Going for 100 sets!   \n",
       "5  Male, 23 years old. Going for 100 sets!   \n",
       "\n",
       "                                                 url  \n",
       "0  https://www.reddit.com/r/100sets/comments/omv7...  \n",
       "1                                                NaN  \n",
       "3                                                NaN  \n",
       "4                                                NaN  \n",
       "5                                                NaN  "
      ]
     },
     "execution_count": 2,
     "metadata": {},
     "output_type": "execute_result"
    }
   ],
   "source": [
    "import pandas as pd\n",
    "\n",
    "df_path = os.path.join(PROJ_ROOT, 'data', 'interim', 'clean_data.pkl')\n",
    "\n",
    "df = pd.read_pickle(df_path)\n",
    "\n",
    "df.head()"
   ]
  },
  {
   "cell_type": "markdown",
   "metadata": {},
   "source": [
    "# Features Exploration\n",
    "\n",
    "In here, we'll be working on the features described on the paper."
   ]
  },
  {
   "cell_type": "markdown",
   "metadata": {},
   "source": [
    "## Structure\n",
    "\n",
    "> We calculate several features related to the structure of the comment and its position. One feature is the depth of the comment according to Reddit’s threaded structure, which we collect as both a raw count and normalized by the number of comments in the discussion. We also calculate number of sentences, number of words, and number of characters of both the body and the title of the comment. We computed these values for both the current comment and the parent comment."
   ]
  },
  {
   "cell_type": "markdown",
   "metadata": {},
   "source": [
    "### Post depth"
   ]
  },
  {
   "cell_type": "code",
   "execution_count": null,
   "metadata": {},
   "outputs": [],
   "source": []
  },
  {
   "cell_type": "markdown",
   "metadata": {},
   "source": [
    "### Number of sentences, words and characters"
   ]
  },
  {
   "cell_type": "code",
   "execution_count": null,
   "metadata": {},
   "outputs": [],
   "source": []
  }
 ],
 "metadata": {
  "kernelspec": {
   "display_name": "Python (coarse-discourse-validation)",
   "language": "python",
   "name": "coarse-discourse-validation"
  },
  "language_info": {
   "codemirror_mode": {
    "name": "ipython",
    "version": 3
   },
   "file_extension": ".py",
   "mimetype": "text/x-python",
   "name": "python",
   "nbconvert_exporter": "python",
   "pygments_lexer": "ipython3",
   "version": "3.7.1"
  }
 },
 "nbformat": 4,
 "nbformat_minor": 2
}
