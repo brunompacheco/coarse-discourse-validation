{
 "cells": [
  {
   "cell_type": "code",
   "execution_count": 1,
   "metadata": {},
   "outputs": [
    {
     "name": "stdout",
     "output_type": "stream",
     "text": [
      "/home/bruno/Desktop/coarse-discourse-validation\n"
     ]
    }
   ],
   "source": [
    "import os\n",
    "PROJ_ROOT = os.path.abspath(os.path.join(os.pardir))\n",
    "print(PROJ_ROOT)"
   ]
  },
  {
   "cell_type": "code",
   "execution_count": 2,
   "metadata": {},
   "outputs": [],
   "source": [
    "import pandas as pd\n",
    "import json"
   ]
  },
  {
   "cell_type": "code",
   "execution_count": 3,
   "metadata": {},
   "outputs": [
    {
     "data": {
      "text/html": [
       "<div>\n",
       "<style scoped>\n",
       "    .dataframe tbody tr th:only-of-type {\n",
       "        vertical-align: middle;\n",
       "    }\n",
       "\n",
       "    .dataframe tbody tr th {\n",
       "        vertical-align: top;\n",
       "    }\n",
       "\n",
       "    .dataframe thead th {\n",
       "        text-align: right;\n",
       "    }\n",
       "</style>\n",
       "<table border=\"1\" class=\"dataframe\">\n",
       "  <thead>\n",
       "    <tr style=\"text-align: right;\">\n",
       "      <th></th>\n",
       "      <th>is_self_post</th>\n",
       "      <th>posts</th>\n",
       "      <th>subreddit</th>\n",
       "      <th>title</th>\n",
       "      <th>url</th>\n",
       "    </tr>\n",
       "  </thead>\n",
       "  <tbody>\n",
       "    <tr>\n",
       "      <th>0</th>\n",
       "      <td>True</td>\n",
       "      <td>[{'id': 't3_1bx6qw', 'annotations': [{'link_to...</td>\n",
       "      <td>100movies365days</td>\n",
       "      <td>DTX120: #87 - Nashville</td>\n",
       "      <td>https://www.reddit.com/r/100movies365days/comm...</td>\n",
       "    </tr>\n",
       "    <tr>\n",
       "      <th>1</th>\n",
       "      <td>True</td>\n",
       "      <td>[{'id': 't3_omv7p', 'annotations': [{'link_to_...</td>\n",
       "      <td>100sets</td>\n",
       "      <td>Male, 23 years old. Going for 100 sets!</td>\n",
       "      <td>https://www.reddit.com/r/100sets/comments/omv7...</td>\n",
       "    </tr>\n",
       "    <tr>\n",
       "      <th>2</th>\n",
       "      <td>True</td>\n",
       "      <td>[{'id': 't3_259tbh', 'annotations': [{'link_to...</td>\n",
       "      <td>1200isplenty</td>\n",
       "      <td>122cal black currant cheesecake!</td>\n",
       "      <td>https://www.reddit.com/r/1200isplenty/comments...</td>\n",
       "    </tr>\n",
       "    <tr>\n",
       "      <th>3</th>\n",
       "      <td>True</td>\n",
       "      <td>[{'id': 't3_16h61h', 'annotations': [{'link_to...</td>\n",
       "      <td>1911</td>\n",
       "      <td>Need help finding a Springfield!</td>\n",
       "      <td>https://www.reddit.com/r/1911/comments/16h61h/...</td>\n",
       "    </tr>\n",
       "    <tr>\n",
       "      <th>4</th>\n",
       "      <td>True</td>\n",
       "      <td>[{'id': 't3_35igzp', 'annotations': [{'link_to...</td>\n",
       "      <td>1911</td>\n",
       "      <td>Help with a possible trade?</td>\n",
       "      <td>https://www.reddit.com/r/1911/comments/35igzp/...</td>\n",
       "    </tr>\n",
       "  </tbody>\n",
       "</table>\n",
       "</div>"
      ],
      "text/plain": [
       "   is_self_post                                              posts  \\\n",
       "0          True  [{'id': 't3_1bx6qw', 'annotations': [{'link_to...   \n",
       "1          True  [{'id': 't3_omv7p', 'annotations': [{'link_to_...   \n",
       "2          True  [{'id': 't3_259tbh', 'annotations': [{'link_to...   \n",
       "3          True  [{'id': 't3_16h61h', 'annotations': [{'link_to...   \n",
       "4          True  [{'id': 't3_35igzp', 'annotations': [{'link_to...   \n",
       "\n",
       "          subreddit                                    title  \\\n",
       "0  100movies365days                  DTX120: #87 - Nashville   \n",
       "1           100sets  Male, 23 years old. Going for 100 sets!   \n",
       "2      1200isplenty         122cal black currant cheesecake!   \n",
       "3              1911         Need help finding a Springfield!   \n",
       "4              1911              Help with a possible trade?   \n",
       "\n",
       "                                                 url  \n",
       "0  https://www.reddit.com/r/100movies365days/comm...  \n",
       "1  https://www.reddit.com/r/100sets/comments/omv7...  \n",
       "2  https://www.reddit.com/r/1200isplenty/comments...  \n",
       "3  https://www.reddit.com/r/1911/comments/16h61h/...  \n",
       "4  https://www.reddit.com/r/1911/comments/35igzp/...  "
      ]
     },
     "execution_count": 3,
     "metadata": {},
     "output_type": "execute_result"
    }
   ],
   "source": [
    "filepath = os.path.join(PROJ_ROOT, 'data', 'raw', 'coarse_discourse_dump_reddit.json')\n",
    "\n",
    "raw_df = pd.read_json(filepath, lines=True) # 'lines' so pandas reads each line of file as a json object\n",
    "\n",
    "# Converts 'is_self_post' column to boolean\n",
    "raw_df['is_self_post'] = raw_df['is_self_post'].fillna(0).astype('bool')\n",
    "\n",
    "raw_df[raw_df['is_self_post']!= True].head()\n",
    "\n",
    "raw_df.head()"
   ]
  },
  {
   "cell_type": "markdown",
   "metadata": {},
   "source": [
    "# Data preprocessing\n",
    "\n",
    "To train our models, we want every post as a line in the final dataset. Note that we keep the features (but the url) of the thread so we don't discard any data for now."
   ]
  },
  {
   "cell_type": "code",
   "execution_count": 4,
   "metadata": {},
   "outputs": [
    {
     "name": "stderr",
     "output_type": "stream",
     "text": [
      "/home/bruno/anaconda3/envs/coarse-discourse-validation/lib/python3.7/site-packages/ipykernel_launcher.py:10: FutureWarning: Sorting because non-concatenation axis is not aligned. A future version\n",
      "of pandas will change to not sort by default.\n",
      "\n",
      "To accept the future behavior, pass 'sort=False'.\n",
      "\n",
      "To retain the current behavior and silence the warning, pass 'sort=True'.\n",
      "\n",
      "  # Remove the CWD from sys.path while we load stuff.\n"
     ]
    },
    {
     "data": {
      "text/html": [
       "<div>\n",
       "<style scoped>\n",
       "    .dataframe tbody tr th:only-of-type {\n",
       "        vertical-align: middle;\n",
       "    }\n",
       "\n",
       "    .dataframe tbody tr th {\n",
       "        vertical-align: top;\n",
       "    }\n",
       "\n",
       "    .dataframe thead th {\n",
       "        text-align: right;\n",
       "    }\n",
       "</style>\n",
       "<table border=\"1\" class=\"dataframe\">\n",
       "  <thead>\n",
       "    <tr style=\"text-align: right;\">\n",
       "      <th></th>\n",
       "      <th>annotations</th>\n",
       "      <th>author</th>\n",
       "      <th>body</th>\n",
       "      <th>id</th>\n",
       "      <th>in_reply_to</th>\n",
       "      <th>is_first_post</th>\n",
       "      <th>is_self_post</th>\n",
       "      <th>majority_link</th>\n",
       "      <th>majority_type</th>\n",
       "      <th>post_depth</th>\n",
       "      <th>subreddit</th>\n",
       "      <th>thread_title</th>\n",
       "      <th>url</th>\n",
       "    </tr>\n",
       "  </thead>\n",
       "  <tbody>\n",
       "    <tr>\n",
       "      <th>0</th>\n",
       "      <td>[{'link_to_post': 'none', 'main_type': 'announ...</td>\n",
       "      <td>Keatonus</td>\n",
       "      <td>Alright guys, little background about myself. ...</td>\n",
       "      <td>t3_omv7p</td>\n",
       "      <td>NaN</td>\n",
       "      <td>True</td>\n",
       "      <td>True</td>\n",
       "      <td>none</td>\n",
       "      <td>announcement</td>\n",
       "      <td>NaN</td>\n",
       "      <td>100sets</td>\n",
       "      <td>Male, 23 years old. Going for 100 sets!</td>\n",
       "      <td>https://www.reddit.com/r/100sets/comments/omv7...</td>\n",
       "    </tr>\n",
       "    <tr>\n",
       "      <th>1</th>\n",
       "      <td>[{'link_to_post': 't3_omv7p', 'main_type': 'el...</td>\n",
       "      <td>Keatonus</td>\n",
       "      <td>**January 16th 3 Sets:** \\nWent out shopping w...</td>\n",
       "      <td>t1_c3igqif</td>\n",
       "      <td>t3_omv7p</td>\n",
       "      <td>NaN</td>\n",
       "      <td>True</td>\n",
       "      <td>t3_omv7p</td>\n",
       "      <td>elaboration</td>\n",
       "      <td>1.0</td>\n",
       "      <td>100sets</td>\n",
       "      <td>Male, 23 years old. Going for 100 sets!</td>\n",
       "      <td>NaN</td>\n",
       "    </tr>\n",
       "    <tr>\n",
       "      <th>2</th>\n",
       "      <td>[{'link_to_post': 't1_c3igqif', 'main_type': '...</td>\n",
       "      <td>NaN</td>\n",
       "      <td>NaN</td>\n",
       "      <td>t1_c3imrkb</td>\n",
       "      <td>t1_c3igqif</td>\n",
       "      <td>NaN</td>\n",
       "      <td>True</td>\n",
       "      <td>t1_c3igqif</td>\n",
       "      <td>humor</td>\n",
       "      <td>2.0</td>\n",
       "      <td>100sets</td>\n",
       "      <td>Male, 23 years old. Going for 100 sets!</td>\n",
       "      <td>NaN</td>\n",
       "    </tr>\n",
       "    <tr>\n",
       "      <th>3</th>\n",
       "      <td>[{'link_to_post': 't3_omv7p', 'main_type': 'ap...</td>\n",
       "      <td>answerorreply</td>\n",
       "      <td>dude, these sets are awesome. You're doing gre...</td>\n",
       "      <td>t1_c3ij8z0</td>\n",
       "      <td>t3_omv7p</td>\n",
       "      <td>NaN</td>\n",
       "      <td>True</td>\n",
       "      <td>t3_omv7p</td>\n",
       "      <td>appreciation</td>\n",
       "      <td>1.0</td>\n",
       "      <td>100sets</td>\n",
       "      <td>Male, 23 years old. Going for 100 sets!</td>\n",
       "      <td>NaN</td>\n",
       "    </tr>\n",
       "    <tr>\n",
       "      <th>4</th>\n",
       "      <td>[{'link_to_post': 't1_c3ij8z0', 'main_type': '...</td>\n",
       "      <td>Keatonus</td>\n",
       "      <td>Thanks man! Yeah I'm trying to just keep the \"...</td>\n",
       "      <td>t1_c3inx9t</td>\n",
       "      <td>t1_c3ij8z0</td>\n",
       "      <td>NaN</td>\n",
       "      <td>True</td>\n",
       "      <td>t1_c3ij8z0</td>\n",
       "      <td>appreciation</td>\n",
       "      <td>2.0</td>\n",
       "      <td>100sets</td>\n",
       "      <td>Male, 23 years old. Going for 100 sets!</td>\n",
       "      <td>NaN</td>\n",
       "    </tr>\n",
       "  </tbody>\n",
       "</table>\n",
       "</div>"
      ],
      "text/plain": [
       "                                         annotations         author  \\\n",
       "0  [{'link_to_post': 'none', 'main_type': 'announ...       Keatonus   \n",
       "1  [{'link_to_post': 't3_omv7p', 'main_type': 'el...       Keatonus   \n",
       "2  [{'link_to_post': 't1_c3igqif', 'main_type': '...            NaN   \n",
       "3  [{'link_to_post': 't3_omv7p', 'main_type': 'ap...  answerorreply   \n",
       "4  [{'link_to_post': 't1_c3ij8z0', 'main_type': '...       Keatonus   \n",
       "\n",
       "                                                body          id in_reply_to  \\\n",
       "0  Alright guys, little background about myself. ...    t3_omv7p         NaN   \n",
       "1  **January 16th 3 Sets:** \\nWent out shopping w...  t1_c3igqif    t3_omv7p   \n",
       "2                                                NaN  t1_c3imrkb  t1_c3igqif   \n",
       "3  dude, these sets are awesome. You're doing gre...  t1_c3ij8z0    t3_omv7p   \n",
       "4  Thanks man! Yeah I'm trying to just keep the \"...  t1_c3inx9t  t1_c3ij8z0   \n",
       "\n",
       "  is_first_post  is_self_post majority_link majority_type  post_depth  \\\n",
       "0          True          True          none  announcement         NaN   \n",
       "1           NaN          True      t3_omv7p   elaboration         1.0   \n",
       "2           NaN          True    t1_c3igqif         humor         2.0   \n",
       "3           NaN          True      t3_omv7p  appreciation         1.0   \n",
       "4           NaN          True    t1_c3ij8z0  appreciation         2.0   \n",
       "\n",
       "  subreddit                             thread_title  \\\n",
       "0   100sets  Male, 23 years old. Going for 100 sets!   \n",
       "1   100sets  Male, 23 years old. Going for 100 sets!   \n",
       "2   100sets  Male, 23 years old. Going for 100 sets!   \n",
       "3   100sets  Male, 23 years old. Going for 100 sets!   \n",
       "4   100sets  Male, 23 years old. Going for 100 sets!   \n",
       "\n",
       "                                                 url  \n",
       "0  https://www.reddit.com/r/100sets/comments/omv7...  \n",
       "1                                                NaN  \n",
       "2                                                NaN  \n",
       "3                                                NaN  \n",
       "4                                                NaN  "
      ]
     },
     "execution_count": 4,
     "metadata": {},
     "output_type": "execute_result"
    }
   ],
   "source": [
    "dpproc = pd.DataFrame()\n",
    "\n",
    "for i in range(1, len(raw_df)):\n",
    "    thread = raw_df.iloc[i]\n",
    "    dposts = pd.DataFrame(thread['posts'])\n",
    "    dposts['is_self_post'] = thread['is_self_post']\n",
    "    dposts['subreddit'] = thread['subreddit']\n",
    "    dposts['thread_title'] = thread['title']\n",
    "\n",
    "    dpproc = pd.concat([dpproc, dposts], ignore_index=True, sort=True)\n",
    "\n",
    "dpproc.head()"
   ]
  },
  {
   "cell_type": "markdown",
   "metadata": {},
   "source": [
    "Here we can see that we get the same amount of posts as in 1.1 notebook."
   ]
  },
  {
   "cell_type": "code",
   "execution_count": 5,
   "metadata": {},
   "outputs": [
    {
     "data": {
      "text/plain": [
       "116353"
      ]
     },
     "execution_count": 5,
     "metadata": {},
     "output_type": "execute_result"
    }
   ],
   "source": [
    "len(dpproc)"
   ]
  },
  {
   "cell_type": "markdown",
   "metadata": {},
   "source": [
    "## Columns cleaning"
   ]
  },
  {
   "cell_type": "markdown",
   "metadata": {},
   "source": [
    "### is_first_post\n",
    "\n",
    "Now we verify that `is_first_post` column is useless."
   ]
  },
  {
   "cell_type": "code",
   "execution_count": 8,
   "metadata": {},
   "outputs": [
    {
     "data": {
      "text/plain": [
       "True    9482\n",
       "Name: is_first_post, dtype: int64"
      ]
     },
     "execution_count": 8,
     "metadata": {},
     "output_type": "execute_result"
    }
   ],
   "source": [
    "dpproc[dpproc['in_reply_to'].isna()]['is_first_post'].value_counts()"
   ]
  },
  {
   "cell_type": "markdown",
   "metadata": {},
   "source": [
    "So we drop it."
   ]
  },
  {
   "cell_type": "code",
   "execution_count": 9,
   "metadata": {},
   "outputs": [],
   "source": [
    "dpproc.drop(columns=['is_first_post'], inplace=True)"
   ]
  },
  {
   "cell_type": "markdown",
   "metadata": {},
   "source": [
    "Acknowledging that _NaN_ values at the `in_reply_to` column mean that it is the first post"
   ]
  },
  {
   "cell_type": "markdown",
   "metadata": {},
   "source": [
    "### post_depth"
   ]
  },
  {
   "cell_type": "code",
   "execution_count": 14,
   "metadata": {},
   "outputs": [
    {
     "data": {
      "text/plain": [
       "1.0     51262\n",
       "2.0     25651\n",
       "3.0     14320\n",
       "0.0      9482\n",
       "4.0      7228\n",
       "5.0      3830\n",
       "6.0      2086\n",
       "7.0      1182\n",
       "8.0       657\n",
       "9.0       401\n",
       "10.0      254\n",
       "Name: post_depth, dtype: int64"
      ]
     },
     "execution_count": 14,
     "metadata": {},
     "output_type": "execute_result"
    }
   ],
   "source": [
    "dpproc['post_depth'].fillna(0).value_counts()"
   ]
  },
  {
   "cell_type": "code",
   "execution_count": 15,
   "metadata": {},
   "outputs": [],
   "source": [
    "dpproc['post_depth'] = dpproc['post_depth'].fillna(0)"
   ]
  },
  {
   "cell_type": "markdown",
   "metadata": {},
   "source": [
    "### body\n",
    "\n",
    "If `body` is _NaN_ then the post is useless to us."
   ]
  },
  {
   "cell_type": "code",
   "execution_count": 18,
   "metadata": {},
   "outputs": [
    {
     "ename": "AttributeError",
     "evalue": "'NoneType' object has no attribute 'head'",
     "output_type": "error",
     "traceback": [
      "\u001b[0;31m---------------------------------------------------------------------------\u001b[0m",
      "\u001b[0;31mAttributeError\u001b[0m                            Traceback (most recent call last)",
      "\u001b[0;32m<ipython-input-18-445441c11140>\u001b[0m in \u001b[0;36m<module>\u001b[0;34m\u001b[0m\n\u001b[0;32m----> 1\u001b[0;31m \u001b[0mdpproc\u001b[0m\u001b[0;34m.\u001b[0m\u001b[0mdropna\u001b[0m\u001b[0;34m(\u001b[0m\u001b[0msubset\u001b[0m\u001b[0;34m=\u001b[0m\u001b[0;34m[\u001b[0m\u001b[0;34m'body'\u001b[0m\u001b[0;34m]\u001b[0m\u001b[0;34m,\u001b[0m \u001b[0minplace\u001b[0m\u001b[0;34m=\u001b[0m\u001b[0;32mTrue\u001b[0m\u001b[0;34m)\u001b[0m\u001b[0;34m.\u001b[0m\u001b[0mhead\u001b[0m\u001b[0;34m(\u001b[0m\u001b[0;34m)\u001b[0m\u001b[0;34m\u001b[0m\u001b[0;34m\u001b[0m\u001b[0m\n\u001b[0m",
      "\u001b[0;31mAttributeError\u001b[0m: 'NoneType' object has no attribute 'head'"
     ]
    }
   ],
   "source": [
    "dpproc.dropna(subset=['body'], inplace=True)"
   ]
  },
  {
   "cell_type": "code",
   "execution_count": 20,
   "metadata": {},
   "outputs": [
    {
     "data": {
      "text/plain": [
       "114437"
      ]
     },
     "execution_count": 20,
     "metadata": {},
     "output_type": "execute_result"
    }
   ],
   "source": [
    "len(dpproc)"
   ]
  },
  {
   "cell_type": "markdown",
   "metadata": {},
   "source": [
    "This means a 1,65% loss."
   ]
  },
  {
   "cell_type": "markdown",
   "metadata": {},
   "source": [
    "### author\n",
    "\n",
    "We'll assume that _NaN_ values at this column mean that the user was deleted."
   ]
  },
  {
   "cell_type": "code",
   "execution_count": 23,
   "metadata": {},
   "outputs": [
    {
     "data": {
      "text/html": [
       "<div>\n",
       "<style scoped>\n",
       "    .dataframe tbody tr th:only-of-type {\n",
       "        vertical-align: middle;\n",
       "    }\n",
       "\n",
       "    .dataframe tbody tr th {\n",
       "        vertical-align: top;\n",
       "    }\n",
       "\n",
       "    .dataframe thead th {\n",
       "        text-align: right;\n",
       "    }\n",
       "</style>\n",
       "<table border=\"1\" class=\"dataframe\">\n",
       "  <thead>\n",
       "    <tr style=\"text-align: right;\">\n",
       "      <th></th>\n",
       "      <th>annotations</th>\n",
       "      <th>author</th>\n",
       "      <th>body</th>\n",
       "      <th>id</th>\n",
       "      <th>in_reply_to</th>\n",
       "      <th>is_self_post</th>\n",
       "      <th>majority_link</th>\n",
       "      <th>majority_type</th>\n",
       "      <th>post_depth</th>\n",
       "      <th>subreddit</th>\n",
       "      <th>thread_title</th>\n",
       "      <th>url</th>\n",
       "    </tr>\n",
       "  </thead>\n",
       "  <tbody>\n",
       "    <tr>\n",
       "      <th>6</th>\n",
       "      <td>[{'link_to_post': 't3_omv7p', 'main_type': 'qu...</td>\n",
       "      <td>NaN</td>\n",
       "      <td>More updates!</td>\n",
       "      <td>t1_c3qodom</td>\n",
       "      <td>t3_omv7p</td>\n",
       "      <td>True</td>\n",
       "      <td>t3_omv7p</td>\n",
       "      <td>question</td>\n",
       "      <td>1.0</td>\n",
       "      <td>100sets</td>\n",
       "      <td>Male, 23 years old. Going for 100 sets!</td>\n",
       "      <td>NaN</td>\n",
       "    </tr>\n",
       "    <tr>\n",
       "      <th>8</th>\n",
       "      <td>[{'link_to_post': 't3_259tbh', 'main_type': 'a...</td>\n",
       "      <td>NaN</td>\n",
       "      <td>&gt;very specific items that aren't available eve...</td>\n",
       "      <td>t1_chrzb0h</td>\n",
       "      <td>t3_259tbh</td>\n",
       "      <td>True</td>\n",
       "      <td>t3_259tbh</td>\n",
       "      <td>appreciation</td>\n",
       "      <td>1.0</td>\n",
       "      <td>1200isplenty</td>\n",
       "      <td>122cal black currant cheesecake!</td>\n",
       "      <td>NaN</td>\n",
       "    </tr>\n",
       "    <tr>\n",
       "      <th>11</th>\n",
       "      <td>[{'link_to_post': 't1_chs0fj3', 'main_type': '...</td>\n",
       "      <td>NaN</td>\n",
       "      <td>Oh, we have gelatin, but I've never seen it in...</td>\n",
       "      <td>t1_chs51e3</td>\n",
       "      <td>t1_chs0eqa</td>\n",
       "      <td>True</td>\n",
       "      <td>t1_chs0eqa</td>\n",
       "      <td>elaboration</td>\n",
       "      <td>3.0</td>\n",
       "      <td>1200isplenty</td>\n",
       "      <td>122cal black currant cheesecake!</td>\n",
       "      <td>NaN</td>\n",
       "    </tr>\n",
       "    <tr>\n",
       "      <th>15</th>\n",
       "      <td>[{'link_to_post': 'none', 'main_type': 'questi...</td>\n",
       "      <td>NaN</td>\n",
       "      <td>I can't find them anywhere! I just want the mo...</td>\n",
       "      <td>t3_16h61h</td>\n",
       "      <td>NaN</td>\n",
       "      <td>True</td>\n",
       "      <td>none</td>\n",
       "      <td>question</td>\n",
       "      <td>0.0</td>\n",
       "      <td>1911</td>\n",
       "      <td>Need help finding a Springfield!</td>\n",
       "      <td>https://www.reddit.com/r/1911/comments/16h61h/...</td>\n",
       "    </tr>\n",
       "    <tr>\n",
       "      <th>21</th>\n",
       "      <td>[{'link_to_post': 't1_c7w0wls', 'main_type': '...</td>\n",
       "      <td>NaN</td>\n",
       "      <td>Oh hell no. Sorry, I linked to the wrong pisto...</td>\n",
       "      <td>t1_c7w1x38</td>\n",
       "      <td>t1_c7w0wls</td>\n",
       "      <td>True</td>\n",
       "      <td>t1_c7w0wls</td>\n",
       "      <td>answer</td>\n",
       "      <td>2.0</td>\n",
       "      <td>1911</td>\n",
       "      <td>Need help finding a Springfield!</td>\n",
       "      <td>NaN</td>\n",
       "    </tr>\n",
       "  </tbody>\n",
       "</table>\n",
       "</div>"
      ],
      "text/plain": [
       "                                          annotations author  \\\n",
       "6   [{'link_to_post': 't3_omv7p', 'main_type': 'qu...    NaN   \n",
       "8   [{'link_to_post': 't3_259tbh', 'main_type': 'a...    NaN   \n",
       "11  [{'link_to_post': 't1_chs0fj3', 'main_type': '...    NaN   \n",
       "15  [{'link_to_post': 'none', 'main_type': 'questi...    NaN   \n",
       "21  [{'link_to_post': 't1_c7w0wls', 'main_type': '...    NaN   \n",
       "\n",
       "                                                 body          id in_reply_to  \\\n",
       "6                                       More updates!  t1_c3qodom    t3_omv7p   \n",
       "8   >very specific items that aren't available eve...  t1_chrzb0h   t3_259tbh   \n",
       "11  Oh, we have gelatin, but I've never seen it in...  t1_chs51e3  t1_chs0eqa   \n",
       "15  I can't find them anywhere! I just want the mo...   t3_16h61h         NaN   \n",
       "21  Oh hell no. Sorry, I linked to the wrong pisto...  t1_c7w1x38  t1_c7w0wls   \n",
       "\n",
       "    is_self_post majority_link majority_type  post_depth     subreddit  \\\n",
       "6           True      t3_omv7p      question         1.0       100sets   \n",
       "8           True     t3_259tbh  appreciation         1.0  1200isplenty   \n",
       "11          True    t1_chs0eqa   elaboration         3.0  1200isplenty   \n",
       "15          True          none      question         0.0          1911   \n",
       "21          True    t1_c7w0wls        answer         2.0          1911   \n",
       "\n",
       "                               thread_title  \\\n",
       "6   Male, 23 years old. Going for 100 sets!   \n",
       "8          122cal black currant cheesecake!   \n",
       "11         122cal black currant cheesecake!   \n",
       "15         Need help finding a Springfield!   \n",
       "21         Need help finding a Springfield!   \n",
       "\n",
       "                                                  url  \n",
       "6                                                 NaN  \n",
       "8                                                 NaN  \n",
       "11                                                NaN  \n",
       "15  https://www.reddit.com/r/1911/comments/16h61h/...  \n",
       "21                                                NaN  "
      ]
     },
     "execution_count": 23,
     "metadata": {},
     "output_type": "execute_result"
    }
   ],
   "source": [
    "dpproc[dpproc['author'].isna()].head()"
   ]
  },
  {
   "cell_type": "code",
   "execution_count": 27,
   "metadata": {},
   "outputs": [
    {
     "data": {
      "text/html": [
       "<div>\n",
       "<style scoped>\n",
       "    .dataframe tbody tr th:only-of-type {\n",
       "        vertical-align: middle;\n",
       "    }\n",
       "\n",
       "    .dataframe tbody tr th {\n",
       "        vertical-align: top;\n",
       "    }\n",
       "\n",
       "    .dataframe thead th {\n",
       "        text-align: right;\n",
       "    }\n",
       "</style>\n",
       "<table border=\"1\" class=\"dataframe\">\n",
       "  <thead>\n",
       "    <tr style=\"text-align: right;\">\n",
       "      <th></th>\n",
       "      <th>annotations</th>\n",
       "      <th>author</th>\n",
       "      <th>body</th>\n",
       "      <th>id</th>\n",
       "      <th>in_reply_to</th>\n",
       "      <th>is_self_post</th>\n",
       "      <th>majority_link</th>\n",
       "      <th>majority_type</th>\n",
       "      <th>post_depth</th>\n",
       "      <th>subreddit</th>\n",
       "      <th>thread_title</th>\n",
       "      <th>url</th>\n",
       "    </tr>\n",
       "  </thead>\n",
       "  <tbody>\n",
       "  </tbody>\n",
       "</table>\n",
       "</div>"
      ],
      "text/plain": [
       "Empty DataFrame\n",
       "Columns: [annotations, author, body, id, in_reply_to, is_self_post, majority_link, majority_type, post_depth, subreddit, thread_title, url]\n",
       "Index: []"
      ]
     },
     "execution_count": 27,
     "metadata": {},
     "output_type": "execute_result"
    }
   ],
   "source": [
    "dpproc[dpproc['author']=='deleted'].head()"
   ]
  },
  {
   "cell_type": "code",
   "execution_count": 32,
   "metadata": {},
   "outputs": [],
   "source": [
    "dpproc['author'] = dpproc['author'].fillna('deleted')"
   ]
  },
  {
   "cell_type": "markdown",
   "metadata": {},
   "source": [
    "## Final version"
   ]
  },
  {
   "cell_type": "code",
   "execution_count": 1,
   "metadata": {},
   "outputs": [
    {
     "ename": "NameError",
     "evalue": "name 'dpproc' is not defined",
     "output_type": "error",
     "traceback": [
      "\u001b[0;31m---------------------------------------------------------------------------\u001b[0m",
      "\u001b[0;31mNameError\u001b[0m                                 Traceback (most recent call last)",
      "\u001b[0;32m<ipython-input-1-59ae267c6cc1>\u001b[0m in \u001b[0;36m<module>\u001b[0;34m\u001b[0m\n\u001b[0;32m----> 1\u001b[0;31m \u001b[0mdpproc\u001b[0m\u001b[0;34m.\u001b[0m\u001b[0mhead\u001b[0m\u001b[0;34m(\u001b[0m\u001b[0;34m)\u001b[0m\u001b[0;34m\u001b[0m\u001b[0;34m\u001b[0m\u001b[0m\n\u001b[0m",
      "\u001b[0;31mNameError\u001b[0m: name 'dpproc' is not defined"
     ]
    }
   ],
   "source": [
    "dpproc.head()"
   ]
  },
  {
   "cell_type": "code",
   "execution_count": null,
   "metadata": {},
   "outputs": [],
   "source": []
  }
 ],
 "metadata": {
  "kernelspec": {
   "display_name": "Python (coarse-discourse-validation)",
   "language": "python",
   "name": "coarse-discourse-validation"
  },
  "language_info": {
   "codemirror_mode": {
    "name": "ipython",
    "version": 3
   },
   "file_extension": ".py",
   "mimetype": "text/x-python",
   "name": "python",
   "nbconvert_exporter": "python",
   "pygments_lexer": "ipython3",
   "version": "3.7.1"
  }
 },
 "nbformat": 4,
 "nbformat_minor": 2
}
