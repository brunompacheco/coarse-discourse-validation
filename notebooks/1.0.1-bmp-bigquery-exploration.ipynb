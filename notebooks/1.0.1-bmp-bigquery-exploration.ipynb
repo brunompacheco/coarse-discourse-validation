{
 "cells": [
  {
   "cell_type": "code",
   "execution_count": 1,
   "metadata": {},
   "outputs": [],
   "source": [
    "from google.cloud import bigquery"
   ]
  },
  {
   "cell_type": "code",
   "execution_count": 2,
   "metadata": {},
   "outputs": [],
   "source": [
    "client = bigquery.Client()"
   ]
  },
  {
   "cell_type": "code",
   "execution_count": 3,
   "metadata": {},
   "outputs": [],
   "source": [
    "query_job = client.query(\"\"\"\n",
    "    SELECT\n",
    "      CONCAT(\n",
    "        'https://stackoverflow.com/questions/',\n",
    "        CAST(id as STRING)) as url,\n",
    "      view_count\n",
    "    FROM `bigquery-public-data.stackoverflow.posts_questions`\n",
    "    WHERE tags like '%google-bigquery%'\n",
    "    ORDER BY view_count DESC\n",
    "    LIMIT 10\"\"\")\n",
    "\n",
    "results = query_job.result()  # Waits for job to complete."
   ]
  },
  {
   "cell_type": "code",
   "execution_count": 5,
   "metadata": {},
   "outputs": [
    {
     "name": "stdout",
     "output_type": "stream",
     "text": [
      "https://stackoverflow.com/questions/13530967 : 44672 views\n",
      "https://stackoverflow.com/questions/22879669 : 34745 views\n",
      "https://stackoverflow.com/questions/13221978 : 31584 views\n",
      "https://stackoverflow.com/questions/6607552 : 27736 views\n",
      "https://stackoverflow.com/questions/16609219 : 26271 views\n",
      "https://stackoverflow.com/questions/35159967 : 26258 views\n",
      "https://stackoverflow.com/questions/10604135 : 25860 views\n",
      "https://stackoverflow.com/questions/22004216 : 23496 views\n",
      "https://stackoverflow.com/questions/10644993 : 22356 views\n",
      "https://stackoverflow.com/questions/11647201 : 18547 views\n"
     ]
    }
   ],
   "source": [
    "for row in results:\n",
    "    print(\"{} : {} views\".format(row.url, row.view_count))"
   ]
  }
 ],
 "metadata": {
  "kernelspec": {
   "display_name": "Python (coarse-discourse-validation)",
   "language": "python",
   "name": "coarse-discourse-validation"
  },
  "language_info": {
   "codemirror_mode": {
    "name": "ipython",
    "version": 3
   },
   "file_extension": ".py",
   "mimetype": "text/x-python",
   "name": "python",
   "nbconvert_exporter": "python",
   "pygments_lexer": "ipython3",
   "version": "3.7.1"
  }
 },
 "nbformat": 4,
 "nbformat_minor": 2
}
