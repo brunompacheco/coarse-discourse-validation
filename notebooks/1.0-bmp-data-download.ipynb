{
 "cells": [
  {
   "cell_type": "code",
   "execution_count": 1,
   "metadata": {},
   "outputs": [
    {
     "name": "stdout",
     "output_type": "stream",
     "text": [
      "/home/bruno/Desktop/coarse-discourse-validation\n"
     ]
    }
   ],
   "source": [
    "import os\n",
    "PROJ_ROOT = os.path.abspath(os.path.join(os.pardir))\n",
    "print(PROJ_ROOT)"
   ]
  },
  {
   "cell_type": "markdown",
   "metadata": {},
   "source": [
    "## Annotations download from paper's repo"
   ]
  },
  {
   "cell_type": "code",
   "execution_count": 16,
   "metadata": {},
   "outputs": [],
   "source": [
    "import requests\n",
    "\n",
    "url = 'https://raw.githubusercontent.com/google-research-datasets/coarse-discourse/master/coarse_discourse_dataset.json'\n",
    "filename = os.path.join(PROJ_ROOT,'data', 'external', 'coarse_discourse_dataset.json')\n",
    "\n",
    "with open(filename, 'wb') as jsonfile:\n",
    "    response = requests.get(url)\n",
    "    jsonfile.write(response.content)"
   ]
  },
  {
   "cell_type": "markdown",
   "metadata": {},
   "source": [
    "## Get reddit data from API"
   ]
  },
  {
   "cell_type": "code",
   "execution_count": 31,
   "metadata": {},
   "outputs": [],
   "source": [
    "import json\n",
    "import praw\n",
    "\n",
    "jsonfile = open(filename, 'rb')\n",
    "\n",
    "try:\n",
    "    api_id = os.environ['REDDIT_CLIENT_ID']\n",
    "except KeyError:\n",
    "    print(\"Please set your client id from Reddit API\")\n",
    "\n",
    "try:\n",
    "    api_secret = os.environ['REDDIT_CLIENT_SECRET']\n",
    "except KeyError:\n",
    "    print(\"Please set your client secret from Reddit API\")"
   ]
  },
  {
   "cell_type": "code",
   "execution_count": 32,
   "metadata": {},
   "outputs": [],
   "source": [
    "reddit = praw.Reddit(client_id=api_id,\n",
    "                     client_secret=api_secret,\n",
    "                     user_agent='linux:coarse-discourse-validation:0.1 (by /u/brunompac)')\n",
    "\n",
    "lines = jsonfile.readlines()\n",
    "thread = json.loads(lines[13]) # Random line for simulation\n",
    "\n",
    "submission = reddit.submission(url=thread['url']) # Gets thread data\n",
    "submission.comment_sort = 'best'\n",
    "submission.comment_limit = 40\n",
    "\n",
    "post = thread['posts'][-1] # Random thread comment"
   ]
  },
  {
   "cell_type": "code",
   "execution_count": 33,
   "metadata": {},
   "outputs": [
    {
     "name": "stdout",
     "output_type": "stream",
     "text": [
      "t3_2kmipp\n",
      "t1_clmr1lk\n",
      "t1_clmr43x\n",
      "t1_clmp7qq\n",
      "t1_clmp08s\n",
      "t1_cln2wr5\n",
      "t1_cln8eha\n",
      "t1_clnylli\n",
      "t1_clmpxa7\n",
      "t1_clmq0s6\n",
      "t1_clmqcfv\n"
     ]
    }
   ],
   "source": [
    "for p in thread['posts']:\n",
    "    print(p['id'])"
   ]
  },
  {
   "cell_type": "code",
   "execution_count": 6,
   "metadata": {},
   "outputs": [
    {
     "name": "stdout",
     "output_type": "stream",
     "text": [
      "Looking for Oracle of Seasons, Trading Club Nintendo games.\n",
      "https://www.reddit.com/r/3DS/comments/1riref/looking_for_oracle_of_seasons_trading_club/\n",
      "\tI have 350 coins, and don't really want anything on there atm.  Anyone willing to trade an OoS code for any of the games or stuff on offer?\n"
     ]
    }
   ],
   "source": [
    "print(thread['title'])\n",
    "print(thread['url'])\n",
    "print('\\t'+submission.selftext)"
   ]
  },
  {
   "cell_type": "code",
   "execution_count": 7,
   "metadata": {},
   "outputs": [
    {
     "name": "stdout",
     "output_type": "stream",
     "text": [
      "t3_1riref\n",
      "t1_cdo8mp8\n"
     ]
    }
   ],
   "source": [
    "full_submission_id = 't3_'+submission.id\n",
    "\n",
    "print(full_submission_id)\n",
    "print(post['id'])"
   ]
  },
  {
   "cell_type": "markdown",
   "metadata": {},
   "source": [
    "For explanation on id's and the `'t3_'`, check **type prefixes** at https://www.reddit.com/dev/api/"
   ]
  },
  {
   "cell_type": "code",
   "execution_count": 8,
   "metadata": {},
   "outputs": [
    {
     "name": "stdout",
     "output_type": "stream",
     "text": [
      "I would consider other 3ds code trades as well.\n",
      "\t- tamag21\n"
     ]
    }
   ],
   "source": [
    "submission.comments.replace_more(limit=0)\n",
    "\n",
    "# Gets comment from submission that has the same id as `post`\n",
    "post_short_id = post['id'][3:] # Removes type prefix\n",
    "comment = list(filter(lambda x: x.id == post_short_id, submission.comments.list()))[0]\n",
    "\n",
    "post['body'] = comment.body\n",
    "if comment.author:\n",
    "    post['author'] = comment.author.name\n",
    "    \n",
    "print(post['body'])\n",
    "try:\n",
    "    print('\\t- '+post['author'])\n",
    "except:\n",
    "    pass"
   ]
  },
  {
   "cell_type": "markdown",
   "metadata": {},
   "source": [
    "## Reddit data download from dump"
   ]
  },
  {
   "cell_type": "markdown",
   "metadata": {},
   "source": [
    "<span style=\"color:red\">****</span>"
   ]
  },
  {
   "cell_type": "markdown",
   "metadata": {},
   "source": [
    "#### Test the hypothesis that the first post's id is always the same as the thread's id\n",
    "\n",
    "This will be important as the bigquery table doesn't have url field.\n",
    "\n",
    "WILL TAKE ~5 HOURS!"
   ]
  },
  {
   "cell_type": "code",
   "execution_count": 9,
   "metadata": {},
   "outputs": [
    {
     "ename": "KeyboardInterrupt",
     "evalue": "",
     "output_type": "error",
     "traceback": [
      "\u001b[0;31m---------------------------------------------------------------------------\u001b[0m",
      "\u001b[0;31mKeyboardInterrupt\u001b[0m                         Traceback (most recent call last)",
      "\u001b[0;32m<ipython-input-9-0b496d0b314f>\u001b[0m in \u001b[0;36m<module>\u001b[0;34m\u001b[0m\n\u001b[1;32m     11\u001b[0m \u001b[0;34m\u001b[0m\u001b[0m\n\u001b[1;32m     12\u001b[0m     \u001b[0;31m# print(\"thread \\\"{}\\\" done!\".format(t['title']))\u001b[0m\u001b[0;34m\u001b[0m\u001b[0;34m\u001b[0m\u001b[0;34m\u001b[0m\u001b[0m\n\u001b[0;32m---> 13\u001b[0;31m     \u001b[0mtime\u001b[0m\u001b[0;34m.\u001b[0m\u001b[0msleep\u001b[0m\u001b[0;34m(\u001b[0m\u001b[0;36m2\u001b[0m\u001b[0;34m)\u001b[0m\u001b[0;34m\u001b[0m\u001b[0;34m\u001b[0m\u001b[0m\n\u001b[0m",
      "\u001b[0;31mKeyboardInterrupt\u001b[0m: "
     ]
    }
   ],
   "source": [
    "import time\n",
    "\n",
    "for l in lines:\n",
    "    t = json.loads(l)\n",
    "    \n",
    "    s = reddit.submission(url=t['url'])\n",
    "    \n",
    "    if (t['posts'][0]['id'][3:] != s.id):\n",
    "        print(\"Unconsistency found!\\nsubmission: {} - {}\".format(s.id, s.title))\n",
    "        print(\"thread: {} - {}\".format(t['posts'][0]['id'], t['url']))\n",
    "    \n",
    "    # print(\"thread \\\"{}\\\" done!\".format(t['title']))\n",
    "    time.sleep(2)"
   ]
  },
  {
   "cell_type": "markdown",
   "metadata": {},
   "source": [
    "#### Query to get the top 40 comments from thread\n",
    "\n",
    "Where `link_id` is the thread's id.\n",
    "\n",
    "Check the calculation at http://www.evanmiller.org/how-not-to-sort-by-average-rating.html."
   ]
  },
  {
   "cell_type": "code",
   "execution_count": 39,
   "metadata": {},
   "outputs": [],
   "source": [
    "query = \"\"\"\n",
    "SELECT *, ((ups + 1.9208) / (ups + downs) - \n",
    "                   1.96 * SQRT((ups * downs) / (ups + downs) + .9604) / \n",
    "                          (ups + downs)) / (1 + 3.8416 / (ups + downs)) \n",
    "       AS ci_lower_bound FROM [fh-bigquery:reddit_comments.all] WHERE ((link_id='t3_2kmipp')) \n",
    "       ORDER BY ci_lower_bound DESC LIMIT 40\n",
    "\"\"\""
   ]
  }
 ],
 "metadata": {
  "kernelspec": {
   "display_name": "Python (coarse-discourse-validation)",
   "language": "python",
   "name": "coarse-discourse-validation"
  },
  "language_info": {
   "codemirror_mode": {
    "name": "ipython",
    "version": 3
   },
   "file_extension": ".py",
   "mimetype": "text/x-python",
   "name": "python",
   "nbconvert_exporter": "python",
   "pygments_lexer": "ipython3",
   "version": "3.7.1"
  }
 },
 "nbformat": 4,
 "nbformat_minor": 2
}
