{
 "cells": [
  {
   "cell_type": "code",
   "execution_count": 2,
   "metadata": {},
   "outputs": [
    {
     "name": "stdout",
     "output_type": "stream",
     "text": [
      "/home/bruno/Desktop/coarse-discourse-validation\n"
     ]
    }
   ],
   "source": [
    "import os\n",
    "PROJ_ROOT = os.path.abspath(os.path.join(os.pardir))\n",
    "print(PROJ_ROOT)"
   ]
  },
  {
   "cell_type": "markdown",
   "metadata": {},
   "source": [
    "## Annotations download from paper's repo"
   ]
  },
  {
   "cell_type": "code",
   "execution_count": 7,
   "metadata": {},
   "outputs": [],
   "source": [
    "import requests\n",
    "\n",
    "url = 'https://raw.githubusercontent.com/google-research-datasets/coarse-discourse/master/coarse_discourse_dataset.json'\n",
    "filename = os.path.join(PROJ_ROOT,'data', 'raw', 'coarse_discourse_dataset.json')\n",
    "\n",
    "with open(filename, 'wb') as jsonfile:\n",
    "    response = requests.get(url)\n",
    "    jsonfile.write(response.content)"
   ]
  },
  {
   "cell_type": "markdown",
   "metadata": {},
   "source": [
    "## Get reddit data from API"
   ]
  },
  {
   "cell_type": "code",
   "execution_count": 8,
   "metadata": {},
   "outputs": [],
   "source": [
    "import json\n",
    "import praw\n",
    "\n",
    "jsonfile = open(filename, 'rb')\n",
    "\n",
    "try:\n",
    "    api_id = os.environ['REDDIT_CLIENT_ID']\n",
    "except KeyError:\n",
    "    print(\"Please set your client id from Reddit API\")\n",
    "\n",
    "try:\n",
    "    api_secret = os.environ['REDDIT_CLIENT_SECRET']\n",
    "except KeyError:\n",
    "    print(\"Please set your client secret from Reddit API\")"
   ]
  },
  {
   "cell_type": "code",
   "execution_count": 9,
   "metadata": {},
   "outputs": [],
   "source": [
    "reddit = praw.Reddit(client_id=api_id,\n",
    "                     client_secret=api_secret,\n",
    "                     user_agent='linux:coarse-discourse-validation:0.1 (by /u/brunompac)')\n",
    "\n",
    "lines = jsonfile.readlines()\n",
    "thread = json.loads(lines[42]) # Random line for simulation\n",
    "\n",
    "submission = reddit.submission(url=thread['url']) # Gets thread data\n",
    "submission.comment_sort = 'best'\n",
    "submission.comment_limit = 40\n",
    "\n",
    "post = thread['posts'][-1] # Random thread comment"
   ]
  },
  {
   "cell_type": "code",
   "execution_count": 23,
   "metadata": {},
   "outputs": [
    {
     "data": {
      "text/plain": [
       "dict_keys(['id', 'annotations', 'majority_link', 'majority_type', 'is_first_post'])"
      ]
     },
     "execution_count": 23,
     "metadata": {},
     "output_type": "execute_result"
    }
   ],
   "source": [
    "thread['posts'][0].keys()"
   ]
  },
  {
   "cell_type": "code",
   "execution_count": 13,
   "metadata": {},
   "outputs": [
    {
     "name": "stdout",
     "output_type": "stream",
     "text": [
      "Looking for Oracle of Seasons, Trading Club Nintendo games.\n",
      "https://www.reddit.com/r/3DS/comments/1riref/looking_for_oracle_of_seasons_trading_club/\n",
      "\tI have 350 coins, and don't really want anything on there atm.  Anyone willing to trade an OoS code for any of the games or stuff on offer?\n"
     ]
    }
   ],
   "source": [
    "print(thread['title'])\n",
    "print(thread['url'])\n",
    "print('\\t'+submission.selftext)"
   ]
  },
  {
   "cell_type": "code",
   "execution_count": 16,
   "metadata": {},
   "outputs": [
    {
     "name": "stdout",
     "output_type": "stream",
     "text": [
      "t3_1riref\n",
      "t1_cdo8mp8\n"
     ]
    }
   ],
   "source": [
    "full_submission_id = 't3_'+submission.id\n",
    "\n",
    "print(full_submission_id)\n",
    "print(post['id'])"
   ]
  },
  {
   "cell_type": "markdown",
   "metadata": {},
   "source": [
    "For explanation on id's and the `'t3_'`, check **type prefixes** at https://www.reddit.com/dev/api/"
   ]
  },
  {
   "cell_type": "code",
   "execution_count": 17,
   "metadata": {},
   "outputs": [
    {
     "name": "stdout",
     "output_type": "stream",
     "text": [
      "I would consider other 3ds code trades as well.\n",
      "\t- tamag21\n"
     ]
    }
   ],
   "source": [
    "submission.comments.replace_more(limit=0)\n",
    "\n",
    "# Gets comment from submission that has the same id as `post`\n",
    "post_short_id = post['id'][3:] # Removes type prefix\n",
    "comment = list(filter(lambda x: x.id == post_short_id, submission.comments.list()))[0]\n",
    "\n",
    "post['body'] = comment.body\n",
    "if comment.author:\n",
    "    post['author'] = comment.author.name\n",
    "    \n",
    "print(post['body'])\n",
    "try:\n",
    "    print('\\t- '+post['author'])\n",
    "except:\n",
    "    pass"
   ]
  },
  {
   "cell_type": "code",
   "execution_count": null,
   "metadata": {},
   "outputs": [],
   "source": [
    "import time\n",
    "\n",
    "for l in lines:\n",
    "    t = json.loads(l)\n",
    "    \n",
    "    s = reddit.submission(url=t['url'])\n",
    "    \n",
    "    if (t['posts'][0]['id'][3:] != s.id):\n",
    "        print(\"Unconsistency found!\\nsubmission: {} - {}\".format(s.id, s.title))\n",
    "        print(\"thread: {} - {}\".format(t['posts'][0]['id'], t['url']))\n",
    "    \n",
    "    # print(\"thread \\\"{}\\\" done!\".format(t['title']))\n",
    "    time.sleep(2)"
   ]
  },
  {
   "cell_type": "markdown",
   "metadata": {},
   "source": [
    "## Reddit data download from dump"
   ]
  },
  {
   "cell_type": "code",
   "execution_count": null,
   "metadata": {},
   "outputs": [],
   "source": []
  }
 ],
 "metadata": {
  "kernelspec": {
   "display_name": "Python (coarse-discourse-validation)",
   "language": "python",
   "name": "coarse-discourse-validation"
  },
  "language_info": {
   "codemirror_mode": {
    "name": "ipython",
    "version": 3
   },
   "file_extension": ".py",
   "mimetype": "text/x-python",
   "name": "python",
   "nbconvert_exporter": "python",
   "pygments_lexer": "ipython3",
   "version": "3.7.1"
  }
 },
 "nbformat": 4,
 "nbformat_minor": 2
}
